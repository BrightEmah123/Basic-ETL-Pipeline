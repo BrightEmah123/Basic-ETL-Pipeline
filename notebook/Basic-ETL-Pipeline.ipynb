{
 "cells": [
  {
   "cell_type": "markdown",
   "metadata": {},
   "source": [
    "#### ***Import our Libraries Here***"
   ]
  },
  {
   "cell_type": "code",
   "execution_count": null,
   "metadata": {},
   "outputs": [],
   "source": [
    "import pandas as pd\n",
    "import numpy as np\n",
    "import sqlite3"
   ]
  },
  {
   "cell_type": "markdown",
   "metadata": {},
   "source": [
    "#### ***EXTRACTION***"
   ]
  },
  {
   "cell_type": "code",
   "execution_count": null,
   "metadata": {},
   "outputs": [],
   "source": [
    "df = pd.read_csv('data/crypto-markets.csv')\n",
    "df.head(3)"
   ]
  },
  {
   "cell_type": "markdown",
   "metadata": {},
   "source": [
    "###### **Get Information on dataframe / Overview of the dataframe**"
   ]
  },
  {
   "cell_type": "code",
   "execution_count": null,
   "metadata": {},
   "outputs": [],
   "source": [
    "df.info()"
   ]
  },
  {
   "cell_type": "markdown",
   "metadata": {},
   "source": [
    "#### ***TRANSFORMATION***\n",
    "##### **Data Cleaning**"
   ]
  },
  {
   "cell_type": "markdown",
   "metadata": {},
   "source": [
    "Remove All Null Values from dataframe if any"
   ]
  },
  {
   "cell_type": "code",
   "execution_count": null,
   "metadata": {},
   "outputs": [],
   "source": [
    "df.dropna(inplace=True)"
   ]
  },
  {
   "cell_type": "markdown",
   "metadata": {},
   "source": [
    "###### Since we only need the asset, name, date, open, high, low and close field; we can drop the unimportant columns"
   ]
  },
  {
   "cell_type": "code",
   "execution_count": null,
   "metadata": {},
   "outputs": [],
   "source": [
    "df.drop(labels=['slug', 'ranknow', 'volume', 'market', 'close_ratio', 'spread'], inplace=True, axis=1)"
   ]
  },
  {
   "cell_type": "markdown",
   "metadata": {},
   "source": [
    "###### Currently we need only the Bitcoin, Ripple and Litecoin fields"
   ]
  },
  {
   "cell_type": "code",
   "execution_count": null,
   "metadata": {},
   "outputs": [],
   "source": [
    "assetsCodes = ['BTC','XRP','LTC']"
   ]
  },
  {
   "cell_type": "code",
   "execution_count": null,
   "metadata": {},
   "outputs": [],
   "source": [
    "df.drop(pd.Index(np.where(df['asset'].isin(assetsCodes)==False)[0]), inplace = True)"
   ]
  },
  {
   "cell_type": "markdown",
   "metadata": {},
   "source": [
    "###### Our final approach to cleaning the data is to reset the index"
   ]
  },
  {
   "cell_type": "code",
   "execution_count": null,
   "metadata": {},
   "outputs": [],
   "source": [
    "df.reset_index(drop=True, inplace=True)\n",
    "df.head(2)"
   ]
  },
  {
   "cell_type": "markdown",
   "metadata": {},
   "source": [
    "#### ***LOADING***\n",
    "##### **Loading the dataframe into SQLite - This will act as our datawarehouse**"
   ]
  },
  {
   "cell_type": "markdown",
   "metadata": {},
   "source": [
    "##### SQLite"
   ]
  },
  {
   "cell_type": "code",
   "execution_count": null,
   "metadata": {},
   "outputs": [],
   "source": [
    "conn = sqlite3.connect('session.db')\n",
    "print(conn)"
   ]
  },
  {
   "cell_type": "code",
   "execution_count": null,
   "metadata": {},
   "outputs": [],
   "source": [
    "# Drop a table name Crypto id it exists already\n",
    "try:\n",
    "    conn.execute('DROP TABLE IF EXISTS `Cryptocurrency` ')\n",
    "except Exception as e:\n",
    "    print(str(e))"
   ]
  },
  {
   "cell_type": "code",
   "execution_count": null,
   "metadata": {},
   "outputs": [],
   "source": [
    "# Create a new Table name as Cryptocurrency\n",
    "try:\n",
    "    conn.execute('''\n",
    "        CREATE TABLE Cryptocurrency\n",
    "        (ID     INTEGER PRIMARY KEY,\n",
    "         ASSET  TEXT   NOT NULL,\n",
    "         NAME  TEXT  NOT NULL,\n",
    "         Date   datetime,\n",
    "         Open   Float DEFAULT 0,\n",
    "         High   Float DEFAULT 0,\n",
    "         Low    Float DEFAULT 0,\n",
    "         Close  Float DEFAULT 0);\n",
    "    ''')\n",
    "    print (\"Table created successfully\");\n",
    "except Exception as e:\n",
    "    print(str(e))\n",
    "    print('Table Creation Failed')\n",
    "finally:\n",
    "    conn.close()"
   ]
  },
  {
   "cell_type": "code",
   "execution_count": null,
   "metadata": {},
   "outputs": [],
   "source": [
    "df_list = df.values.tolist()\n",
    "\n",
    "# lets make new connection to Insert crypto data in SQL DB\n",
    "conn = sqlite3.connect('session.db')\n",
    "\n",
    "# make a cursor - it will help with querying SQL DB\n",
    "cur = conn.cursor()\n",
    "\n",
    "try:\n",
    "    cur.executemany(\"INSERT INTO Cryptocurrency(ASSET, NAME, Date, Open, High, Low, Close) VALUES (?,?,?,?,?,?,?)\", df_list)\n",
    "    conn.commit()\n",
    "    print('Data Inserted Successfully')\n",
    "except Exception as e:\n",
    "    print(str(e))\n",
    "    print('Data Insertion Failed')\n",
    "finally:\n",
    "    # finally block will help with always closing the connection to DB even in case of error.\n",
    "    conn.close()"
   ]
  },
  {
   "cell_type": "code",
   "execution_count": null,
   "metadata": {},
   "outputs": [],
   "source": [
    "# Let's Read data from DB to verify it\n",
    "\n",
    "conn = sqlite3.connect('session.db')\n",
    "rows = conn.cursor().execute('Select * from Cryptocurrency')\n",
    "# print(rows[:2])\n",
    "for row in rows:\n",
    "    print(row)\n",
    "conn.close()"
   ]
  },
  {
   "cell_type": "code",
   "execution_count": null,
   "metadata": {},
   "outputs": [],
   "source": []
  }
 ],
 "metadata": {
  "kernelspec": {
   "display_name": "Python 3",
   "language": "python",
   "name": "python3"
  },
  "language_info": {
   "codemirror_mode": {
    "name": "ipython",
    "version": 3
   },
   "file_extension": ".py",
   "mimetype": "text/x-python",
   "name": "python",
   "nbconvert_exporter": "python",
   "pygments_lexer": "ipython3",
   "version": "3.7.4"
  }
 },
 "nbformat": 4,
 "nbformat_minor": 4
}
